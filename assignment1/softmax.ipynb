{
 "cells": [
  {
   "cell_type": "markdown",
   "metadata": {},
   "source": [
    "# Softmax exercise\n",
    "\n",
    "*Complete and hand in this completed worksheet (including its outputs and any supporting code outside of the worksheet) with your assignment submission. For more details see the [assignments page](http://vision.stanford.edu/teaching/cs231n/assignments.html) on the course website.*\n",
    "\n",
    "This exercise is analogous to the SVM exercise. You will:\n",
    "\n",
    "- implement a fully-vectorized **loss function** for the Softmax classifier\n",
    "- implement the fully-vectorized expression for its **analytic gradient**\n",
    "- **check your implementation** with numerical gradient\n",
    "- use a validation set to **tune the learning rate and regularization** strength\n",
    "- **optimize** the loss function with **SGD**\n",
    "- **visualize** the final learned weights\n"
   ]
  },
  {
   "cell_type": "code",
   "execution_count": 1,
   "metadata": {},
   "outputs": [],
   "source": [
    "import random\n",
    "import numpy as np\n",
    "from cs231n.data_utils import load_CIFAR10\n",
    "import matplotlib.pyplot as plt\n",
    "\n",
    "from __future__ import print_function\n",
    "\n",
    "%matplotlib inline\n",
    "plt.rcParams['figure.figsize'] = (10.0, 8.0) # set default size of plots\n",
    "plt.rcParams['image.interpolation'] = 'nearest'\n",
    "plt.rcParams['image.cmap'] = 'gray'\n",
    "\n",
    "# for auto-reloading extenrnal modules\n",
    "# see http://stackoverflow.com/questions/1907993/autoreload-of-modules-in-ipython\n",
    "%load_ext autoreload\n",
    "%autoreload 2"
   ]
  },
  {
   "cell_type": "code",
   "execution_count": 2,
   "metadata": {},
   "outputs": [
    {
     "name": "stdout",
     "output_type": "stream",
     "text": [
      "Train data shape:  (49000, 3073)\n",
      "Train labels shape:  (49000,)\n",
      "Validation data shape:  (1000, 3073)\n",
      "Validation labels shape:  (1000,)\n",
      "Test data shape:  (1000, 3073)\n",
      "Test labels shape:  (1000,)\n",
      "dev data shape:  (500, 3073)\n",
      "dev labels shape:  (500,)\n"
     ]
    }
   ],
   "source": [
    "def get_CIFAR10_data(num_training=49000, num_validation=1000, num_test=1000, num_dev=500):\n",
    "    \"\"\"\n",
    "    Load the CIFAR-10 dataset from disk and perform preprocessing to prepare\n",
    "    it for the linear classifier. These are the same steps as we used for the\n",
    "    SVM, but condensed to a single function.  \n",
    "    \"\"\"\n",
    "    # Load the raw CIFAR-10 data\n",
    "    cifar10_dir = 'cs231n/datasets/cifar-10-batches-py'\n",
    "    X_train, y_train, X_test, y_test = load_CIFAR10(cifar10_dir)\n",
    "    \n",
    "    # subsample the data\n",
    "    mask = list(range(num_training, num_training + num_validation))\n",
    "    X_val = X_train[mask]\n",
    "    y_val = y_train[mask]\n",
    "    mask = list(range(num_training))\n",
    "    X_train = X_train[mask]\n",
    "    y_train = y_train[mask]\n",
    "    mask = list(range(num_test))\n",
    "    X_test = X_test[mask]\n",
    "    y_test = y_test[mask]\n",
    "    mask = np.random.choice(num_training, num_dev, replace=False)\n",
    "    X_dev = X_train[mask]\n",
    "    y_dev = y_train[mask]\n",
    "    \n",
    "    # Preprocessing: reshape the image data into rows\n",
    "    X_train = np.reshape(X_train, (X_train.shape[0], -1))\n",
    "    X_val = np.reshape(X_val, (X_val.shape[0], -1))\n",
    "    X_test = np.reshape(X_test, (X_test.shape[0], -1))\n",
    "    X_dev = np.reshape(X_dev, (X_dev.shape[0], -1))\n",
    "    \n",
    "    # Normalize the data: subtract the mean image\n",
    "    mean_image = np.mean(X_train, axis = 0)\n",
    "    X_train -= mean_image\n",
    "    X_val -= mean_image\n",
    "    X_test -= mean_image\n",
    "    X_dev -= mean_image\n",
    "    \n",
    "    # add bias dimension and transform into columns\n",
    "    X_train = np.hstack([X_train, np.ones((X_train.shape[0], 1))])\n",
    "    X_val = np.hstack([X_val, np.ones((X_val.shape[0], 1))])\n",
    "    X_test = np.hstack([X_test, np.ones((X_test.shape[0], 1))])\n",
    "    X_dev = np.hstack([X_dev, np.ones((X_dev.shape[0], 1))])\n",
    "    \n",
    "    return X_train, y_train, X_val, y_val, X_test, y_test, X_dev, y_dev\n",
    "\n",
    "\n",
    "# Invoke the above function to get our data.\n",
    "X_train, y_train, X_val, y_val, X_test, y_test, X_dev, y_dev = get_CIFAR10_data()\n",
    "print('Train data shape: ', X_train.shape)\n",
    "print('Train labels shape: ', y_train.shape)\n",
    "print('Validation data shape: ', X_val.shape)\n",
    "print('Validation labels shape: ', y_val.shape)\n",
    "print('Test data shape: ', X_test.shape)\n",
    "print('Test labels shape: ', y_test.shape)\n",
    "print('dev data shape: ', X_dev.shape)\n",
    "print('dev labels shape: ', y_dev.shape)"
   ]
  },
  {
   "cell_type": "markdown",
   "metadata": {},
   "source": [
    "## Softmax Classifier\n",
    "\n",
    "Your code for this section will all be written inside **cs231n/classifiers/softmax.py**. \n"
   ]
  },
  {
   "cell_type": "code",
   "execution_count": 3,
   "metadata": {},
   "outputs": [
    {
     "name": "stdout",
     "output_type": "stream",
     "text": [
      "loss: 2.366890\n",
      "sanity check: 2.302585\n"
     ]
    }
   ],
   "source": [
    "# First implement the naive softmax loss function with nested loops.\n",
    "# Open the file cs231n/classifiers/softmax.py and implement the\n",
    "# softmax_loss_naive function.\n",
    "\n",
    "from cs231n.classifiers.softmax import softmax_loss_naive\n",
    "import time\n",
    "\n",
    "# Generate a random softmax weight matrix and use it to compute the loss.\n",
    "W = np.random.randn(3073, 10) * 0.0001\n",
    "loss, grad = softmax_loss_naive(W, X_dev, y_dev, 0.0)\n",
    "\n",
    "# As a rough sanity check, our loss should be something close to -log(0.1).\n",
    "print('loss: %f' % loss)\n",
    "print('sanity check: %f' % (-np.log(0.1)))"
   ]
  },
  {
   "cell_type": "markdown",
   "metadata": {},
   "source": [
    "## Inline Question 1:\n",
    "Why do we expect our loss to be close to -log(0.1)? Explain briefly.**\n",
    "\n",
    "**Your answer:** *Fill this in*\n"
   ]
  },
  {
   "cell_type": "code",
   "execution_count": 4,
   "metadata": {},
   "outputs": [
    {
     "name": "stdout",
     "output_type": "stream",
     "text": [
      "numerical: 0.760112 analytic: 0.760112, relative error: 7.502660e-08\n",
      "numerical: 0.702927 analytic: 0.702927, relative error: 8.698419e-08\n",
      "numerical: -0.697151 analytic: -0.697151, relative error: 2.645198e-08\n",
      "numerical: -1.206995 analytic: -1.206995, relative error: 1.237399e-08\n",
      "numerical: -1.106424 analytic: -1.106424, relative error: 4.901530e-08\n",
      "numerical: -1.799972 analytic: -1.799972, relative error: 2.584205e-09\n",
      "numerical: -1.168793 analytic: -1.168793, relative error: 6.684925e-09\n",
      "numerical: 2.212445 analytic: 2.212445, relative error: 1.585614e-08\n",
      "numerical: 2.885978 analytic: 2.885978, relative error: 2.030177e-08\n",
      "numerical: 1.816948 analytic: 1.816948, relative error: 9.431832e-09\n",
      "numerical: -0.335234 analytic: -0.335810, relative error: 8.579451e-04\n",
      "numerical: -0.376408 analytic: -0.388614, relative error: 1.595447e-02\n",
      "numerical: 2.866214 analytic: 2.855581, relative error: 1.858182e-03\n",
      "numerical: 0.361520 analytic: 0.357894, relative error: 5.039405e-03\n",
      "numerical: -1.943721 analytic: -1.950180, relative error: 1.658837e-03\n",
      "numerical: -4.163619 analytic: -4.169319, relative error: 6.840236e-04\n",
      "numerical: 0.310113 analytic: 0.301402, relative error: 1.424497e-02\n",
      "numerical: 2.936678 analytic: 2.945810, relative error: 1.552440e-03\n",
      "numerical: 3.350263 analytic: 3.361121, relative error: 1.617849e-03\n",
      "numerical: 0.506483 analytic: 0.514161, relative error: 7.522353e-03\n"
     ]
    }
   ],
   "source": [
    "# Complete the implementation of softmax_loss_naive and implement a (naive)\n",
    "# version of the gradient that uses nested loops.\n",
    "loss, grad = softmax_loss_naive(W, X_dev, y_dev, 0.0)\n",
    "\n",
    "# As we did for the SVM, use numeric gradient checking as a debugging tool.\n",
    "# The numeric gradient should be close to the analytic gradient.\n",
    "from cs231n.gradient_check import grad_check_sparse\n",
    "f = lambda w: softmax_loss_naive(w, X_dev, y_dev, 0.0)[0]\n",
    "grad_numerical = grad_check_sparse(f, W, grad, 10)\n",
    "\n",
    "# similar to SVM case, do another gradient check with regularization\n",
    "loss, grad = softmax_loss_naive(W, X_dev, y_dev, 5e1)\n",
    "f = lambda w: softmax_loss_naive(w, X_dev, y_dev, 5e1)[0]\n",
    "grad_numerical = grad_check_sparse(f, W, grad, 10)"
   ]
  },
  {
   "cell_type": "code",
   "execution_count": 5,
   "metadata": {},
   "outputs": [
    {
     "name": "stdout",
     "output_type": "stream",
     "text": [
      "naive loss: 2.366890e+00 computed in 0.034324s\n",
      "vectorized loss: 2.366890e+00 computed in 0.010516s\n",
      "Loss difference: 0.000000\n",
      "Gradient difference: 0.000000\n"
     ]
    }
   ],
   "source": [
    "# Now that we have a naive implementation of the softmax loss function and its gradient,\n",
    "# implement a vectorized version in softmax_loss_vectorized.\n",
    "# The two versions should compute the same results, but the vectorized version should be\n",
    "# much faster.\n",
    "tic = time.time()\n",
    "loss_naive, grad_naive = softmax_loss_naive(W, X_dev, y_dev, 0.000005)\n",
    "toc = time.time()\n",
    "print('naive loss: %e computed in %fs' % (loss_naive, toc - tic))\n",
    "\n",
    "from cs231n.classifiers.softmax import softmax_loss_vectorized\n",
    "tic = time.time()\n",
    "loss_vectorized, grad_vectorized = softmax_loss_vectorized(W, X_dev, y_dev, 0.000005)\n",
    "toc = time.time()\n",
    "print('vectorized loss: %e computed in %fs' % (loss_vectorized, toc - tic))\n",
    "\n",
    "# As we did for the SVM, we use the Frobenius norm to compare the two versions\n",
    "# of the gradient.\n",
    "grad_difference = np.linalg.norm(grad_naive - grad_vectorized, ord='fro')\n",
    "print('Loss difference: %f' % np.abs(loss_naive - loss_vectorized))\n",
    "print('Gradient difference: %f' % grad_difference)"
   ]
  },
  {
   "cell_type": "code",
   "execution_count": 6,
   "metadata": {},
   "outputs": [
    {
     "name": "stdout",
     "output_type": "stream",
     "text": [
      "(9.9999999999999995e-08, 25000.0) (0.32640816326530614, 0.34599999999999997)\n",
      "(9.9999999999999995e-08, 31250.0) (0.31877551020408162, 0.33100000000000002)\n",
      "(9.9999999999999995e-08, 37500.0) (0.32232653061224492, 0.33500000000000002)\n",
      "(9.9999999999999995e-08, 43750.0) (0.31869387755102041, 0.34599999999999997)\n",
      "(9.9999999999999995e-08, 50000.0) (0.29842857142857143, 0.31)\n",
      "(1.9999999999999999e-07, 25000.0) (0.33400000000000002, 0.34599999999999997)\n",
      "(1.9999999999999999e-07, 31250.0) (0.31567346938775509, 0.33400000000000002)\n",
      "(1.9999999999999999e-07, 37500.0) (0.30812244897959185, 0.32400000000000001)\n",
      "(1.9999999999999999e-07, 43750.0) (0.30089795918367346, 0.32300000000000001)\n",
      "(1.9999999999999999e-07, 50000.0) (0.3003877551020408, 0.31900000000000001)\n",
      "(2.9999999999999999e-07, 25000.0) (0.32265306122448978, 0.34599999999999997)\n",
      "(2.9999999999999999e-07, 31250.0) (0.32100000000000001, 0.34100000000000003)\n",
      "(2.9999999999999999e-07, 37500.0) (0.32195918367346937, 0.32800000000000001)\n",
      "(2.9999999999999999e-07, 43750.0) (0.30510204081632653, 0.32100000000000001)\n",
      "(2.9999999999999999e-07, 50000.0) (0.30461224489795918, 0.309)\n",
      "(3.9999999999999998e-07, 25000.0) (0.32510204081632654, 0.33500000000000002)\n",
      "(3.9999999999999998e-07, 31250.0) (0.3190612244897959, 0.33000000000000002)\n",
      "(3.9999999999999998e-07, 37500.0) (0.30046938775510201, 0.32000000000000001)\n",
      "(3.9999999999999998e-07, 43750.0) (0.30918367346938774, 0.313)\n",
      "(3.9999999999999998e-07, 50000.0) (0.30293877551020409, 0.312)\n",
      "(4.9999999999999998e-07, 25000.0) (0.32632653061224492, 0.32800000000000001)\n",
      "(4.9999999999999998e-07, 31250.0) (0.32281632653061226, 0.33000000000000002)\n",
      "(4.9999999999999998e-07, 37500.0) (0.30657142857142855, 0.32300000000000001)\n",
      "(4.9999999999999998e-07, 43750.0) (0.30687755102040815, 0.308)\n",
      "(4.9999999999999998e-07, 50000.0) (0.31812244897959185, 0.32600000000000001)\n",
      "lr 1.000000e-07 reg 2.500000e+04 train accuracy: 0.326408 val accuracy: 0.346000\n",
      "lr 1.000000e-07 reg 3.125000e+04 train accuracy: 0.318776 val accuracy: 0.331000\n",
      "lr 1.000000e-07 reg 3.750000e+04 train accuracy: 0.322327 val accuracy: 0.335000\n",
      "lr 1.000000e-07 reg 4.375000e+04 train accuracy: 0.318694 val accuracy: 0.346000\n",
      "lr 1.000000e-07 reg 5.000000e+04 train accuracy: 0.298429 val accuracy: 0.310000\n",
      "lr 2.000000e-07 reg 2.500000e+04 train accuracy: 0.334000 val accuracy: 0.346000\n",
      "lr 2.000000e-07 reg 3.125000e+04 train accuracy: 0.315673 val accuracy: 0.334000\n",
      "lr 2.000000e-07 reg 3.750000e+04 train accuracy: 0.308122 val accuracy: 0.324000\n",
      "lr 2.000000e-07 reg 4.375000e+04 train accuracy: 0.300898 val accuracy: 0.323000\n",
      "lr 2.000000e-07 reg 5.000000e+04 train accuracy: 0.300388 val accuracy: 0.319000\n",
      "lr 3.000000e-07 reg 2.500000e+04 train accuracy: 0.322653 val accuracy: 0.346000\n",
      "lr 3.000000e-07 reg 3.125000e+04 train accuracy: 0.321000 val accuracy: 0.341000\n",
      "lr 3.000000e-07 reg 3.750000e+04 train accuracy: 0.321959 val accuracy: 0.328000\n",
      "lr 3.000000e-07 reg 4.375000e+04 train accuracy: 0.305102 val accuracy: 0.321000\n",
      "lr 3.000000e-07 reg 5.000000e+04 train accuracy: 0.304612 val accuracy: 0.309000\n",
      "lr 4.000000e-07 reg 2.500000e+04 train accuracy: 0.325102 val accuracy: 0.335000\n",
      "lr 4.000000e-07 reg 3.125000e+04 train accuracy: 0.319061 val accuracy: 0.330000\n",
      "lr 4.000000e-07 reg 3.750000e+04 train accuracy: 0.300469 val accuracy: 0.320000\n",
      "lr 4.000000e-07 reg 4.375000e+04 train accuracy: 0.309184 val accuracy: 0.313000\n",
      "lr 4.000000e-07 reg 5.000000e+04 train accuracy: 0.302939 val accuracy: 0.312000\n",
      "lr 5.000000e-07 reg 2.500000e+04 train accuracy: 0.326327 val accuracy: 0.328000\n",
      "lr 5.000000e-07 reg 3.125000e+04 train accuracy: 0.322816 val accuracy: 0.330000\n",
      "lr 5.000000e-07 reg 3.750000e+04 train accuracy: 0.306571 val accuracy: 0.323000\n",
      "lr 5.000000e-07 reg 4.375000e+04 train accuracy: 0.306878 val accuracy: 0.308000\n",
      "lr 5.000000e-07 reg 5.000000e+04 train accuracy: 0.318122 val accuracy: 0.326000\n",
      "best validation accuracy achieved during cross-validation: 0.346000\n"
     ]
    }
   ],
   "source": [
    "# Use the validation set to tune hyperparameters (regularization strength and\n",
    "# learning rate). You should experiment with different ranges for the learning\n",
    "# rates and regularization strengths; if you are careful you should be able to\n",
    "# get a classification accuracy of over 0.35 on the validation set.\n",
    "from cs231n.classifiers import Softmax\n",
    "results = {}\n",
    "best_val = -1\n",
    "best_softmax = None\n",
    "learning_rates = [1e-7, 5e-7]\n",
    "regularization_strengths = [2.5e4, 5e4]\n",
    "\n",
    "################################################################################\n",
    "# TODO:                                                                        #\n",
    "# Use the validation set to set the learning rate and regularization strength. #\n",
    "# This should be identical to the validation that you did for the SVM; save    #\n",
    "# the best trained softmax classifer in best_softmax.                          #\n",
    "################################################################################\n",
    "pass\n",
    "for lr in np.linspace(learning_rates[0],learning_rates[1],5):\n",
    "    for regu in np.linspace(regularization_strengths[0],regularization_strengths[1],5):\n",
    "        soft = Softmax()\n",
    "        lost_hist = soft.train(X_train,y_train, learning_rate = lr, reg = regu, verbose=False, num_iters=1000)\n",
    "        y_train_pred = soft.predict(X_train)\n",
    "        trainacc = np.mean(y_train == y_train_pred)\n",
    "        y_val_pred = soft.predict(X_val)\n",
    "        cvacc = np.mean(y_val == y_val_pred)\n",
    "        results[(lr,regu)] = (trainacc,cvacc)\n",
    "        print((lr,regu), results[lr,regu])\n",
    "        if cvacc > best_val:\n",
    "            best_val = cvacc\n",
    "            best_softmax = soft\n",
    "        \n",
    "################################################################################\n",
    "#                              END OF YOUR CODE                                #\n",
    "################################################################################\n",
    "    \n",
    "# Print out results.\n",
    "for lr, reg in sorted(results):\n",
    "    train_accuracy, val_accuracy = results[(lr, reg)]\n",
    "    print('lr %e reg %e train accuracy: %f val accuracy: %f' % (\n",
    "                lr, reg, train_accuracy, val_accuracy))\n",
    "    \n",
    "print('best validation accuracy achieved during cross-validation: %f' % best_val)"
   ]
  },
  {
   "cell_type": "code",
   "execution_count": 7,
   "metadata": {},
   "outputs": [
    {
     "name": "stdout",
     "output_type": "stream",
     "text": [
      "softmax on raw pixels final test set accuracy: 0.334000\n"
     ]
    }
   ],
   "source": [
    "# evaluate on test set\n",
    "# Evaluate the best softmax on test set\n",
    "y_test_pred = best_softmax.predict(X_test)\n",
    "test_accuracy = np.mean(y_test == y_test_pred)\n",
    "print('softmax on raw pixels final test set accuracy: %f' % (test_accuracy, ))"
   ]
  },
  {
   "cell_type": "code",
   "execution_count": 8,
   "metadata": {},
   "outputs": [
    {
     "data": {
      "image/png": "[encoded data removed]",
      "text/plain": [
       "<matplotlib.figure.Figure at 0x7fdc5a64b7b8>"
      ]
     },
     "metadata": {},
     "output_type": "display_data"
    }
   ],
   "source": [
    "# Visualize the learned weights for each class\n",
    "w = best_softmax.W[:-1,:] # strip out the bias\n",
    "w = w.reshape(32, 32, 3, 10)\n",
    "\n",
    "w_min, w_max = np.min(w), np.max(w)\n",
    "\n",
    "classes = ['plane', 'car', 'bird', 'cat', 'deer', 'dog', 'frog', 'horse', 'ship', 'truck']\n",
    "for i in range(10):\n",
    "    plt.subplot(2, 5, i + 1)\n",
    "    \n",
    "    # Rescale the weights to be between 0 and 255\n",
    "    wimg = 255.0 * (w[:, :, :, i].squeeze() - w_min) / (w_max - w_min)\n",
    "    plt.imshow(wimg.astype('uint8'))\n",
    "    plt.axis('off')\n",
    "    plt.title(classes[i])"
   ]
  }
 ],
 "metadata": {
  "kernelspec": {
   "display_name": "Python 3",
   "language": "python",
   "name": "python3"
  },
  "language_info": {
   "codemirror_mode": {
    "name": "ipython",
    "version": 3
   },
   "file_extension": ".py",
   "mimetype": "text/x-python",
   "name": "python",
   "nbconvert_exporter": "python",
   "pygments_lexer": "ipython3",
   "version": "3.6.1"
  }
 },
 "nbformat": 4,
 "nbformat_minor": 1
}
